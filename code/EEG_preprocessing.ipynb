{
 "cells": [
  {
   "cell_type": "code",
   "execution_count": 1,
   "metadata": {},
   "outputs": [],
   "source": [
    "import scipy.io\n",
    "import numpy as np"
   ]
  },
  {
   "cell_type": "code",
   "execution_count": null,
   "metadata": {},
   "outputs": [],
   "source": [
    "mat_data = scipy.io.loadmat('./data_preprocessed_matlab/s01.mat') \n",
    "original_data = mat_data['data']\n",
    "original_label = mat_data['labels']"
   ]
  },
  {
   "cell_type": "code",
   "execution_count": null,
   "metadata": {},
   "outputs": [],
   "source": [
    "sliced_data = original_data[:, :32, 384:] \n",
    "print(\"sliced_data:\", sliced_data.shape)\n",
    "eeg_data = sliced_data"
   ]
  },
  {
   "cell_type": "code",
   "execution_count": null,
   "metadata": {},
   "outputs": [],
   "source": [
    "valence = original_label[:,0]\n",
    "arousal = original_label[:,1]\n",
    "# HAHV--1, LAHV--2, LALV--3, HALV--4\n",
    "VA_labels = np.where((valence > 5) & (arousal > 5), 0,\n",
    "          np.where((valence >= 5) & (arousal < 5), 1,\n",
    "            np.where((valence < 5) & (arousal < 5), 2, 3)))\n",
    "print(\"V:\", valence)\n",
    "print(\"A:\", arousal)\n",
    "print(VA_labels)\n",
    "\n",
    "segment_size = 3 * 128\n",
    "\n",
    "num_segments = sliced_data.shape[2] // segment_size\n",
    "expanded_VA_labels = np.repeat(VA_labels, num_segments)\n",
    "print(expanded_VA_labels.shape)\n",
    "labels = expanded_VA_labels "
   ]
  },
  {
   "cell_type": "code",
   "execution_count": null,
   "metadata": {},
   "outputs": [],
   "source": [
    "import pandas as pd\n",
    "import mne\n",
    "from mne import io\n",
    "from mne.datasets import sample\n",
    "from mne.preprocessing import ICA\n",
    "import os\n",
    "\n",
    "sfreq = 128 \n",
    "channels = 32\n",
    "samples = 384\n",
    "num_each_trial = 20\n",
    "ch_names = ['Fp1', 'AF3', 'F7', 'F3', 'FC1', 'FC5', 'T7', 'C3', 'CP1', 'CP5', 'P7', 'P3', \n",
    "            'Pz', 'PO3', 'O1', 'Oz', 'O2', 'PO4', 'P4', 'P8', 'CP6', 'CP2', 'C4', 'T8', \n",
    "            'FC6', 'FC2', 'F4', 'F8', 'AF4', 'FP2', 'Fz', 'Cz']\n",
    "ch_types = ['eeg'] * channels\n",
    "\n",
    "data_list = []\n",
    "eeg_data_segments = np.split(eeg_data, 40, axis=0)\n",
    "index = 0\n",
    "for segment in eeg_data_segments:\n",
    "    index = index + 1\n",
    "    segment_2d = segment.reshape(-1, channels).T\n",
    "\n",
    "    info = mne.create_info(ch_names=ch_names, ch_types=ch_types, sfreq=sfreq)\n",
    "    raw = mne.io.RawArray(segment_2d, info=info)\n",
    "\n",
    "    raw.filter(l_freq=1.0, h_freq=50.0)\n",
    "\n",
    "    ica = ICA(n_components=channels, random_state=0, max_iter=1000) \n",
    "    ica.fit(raw)\n",
    "\n",
    "    ica.exclude = [] \n",
    "    ica.apply(raw)\n",
    "\n",
    "    data = raw.get_data().T # (7680, 32)\n",
    "\n",
    "    data = data[:num_each_trial * samples, :]\n",
    "\n",
    "    data = data.reshape(num_each_trial, samples, channels)\n",
    "\n",
    "    data_list.append(data)\n",
    "\n",
    "\n",
    "data_array = np.concatenate(data_list, axis=0)\n",
    "data_array = np.swapaxes(data_array, 1, 2)\n",
    "eeg_data = data_array"
   ]
  },
  {
   "cell_type": "code",
   "execution_count": null,
   "metadata": {},
   "outputs": [],
   "source": [
    "np.save('./EEGData/s01_eeg.npy', eeg_data)\n",
    "np.save('./EEGData/s01_labels.npy', labels)"
   ]
  }
 ],
 "metadata": {
  "kernelspec": {
   "display_name": "base",
   "language": "python",
   "name": "python3"
  },
  "language_info": {
   "codemirror_mode": {
    "name": "ipython",
    "version": 3
   },
   "file_extension": ".py",
   "mimetype": "text/x-python",
   "name": "python",
   "nbconvert_exporter": "python",
   "pygments_lexer": "ipython3",
   "version": "3.8.17"
  }
 },
 "nbformat": 4,
 "nbformat_minor": 2
}
